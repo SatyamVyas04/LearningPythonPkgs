{
 "cells": [
  {
   "attachments": {},
   "cell_type": "markdown",
   "metadata": {},
   "source": [
    "# Pandas Basics\n",
    "\n",
    "> Based off LeetCode's [Introduction to Pandas](https://leetcode.com/studyplan/introduction-to-pandas/) Study Plan\n"
   ]
  },
  {
   "cell_type": "code",
   "execution_count": 41,
   "metadata": {},
   "outputs": [],
   "source": [
    "import pandas as pd"
   ]
  },
  {
   "cell_type": "markdown",
   "metadata": {},
   "source": [
    "### DataFrame Creation\n",
    "\n",
    "#### Creation of DataFrame from Raw Data\n"
   ]
  },
  {
   "cell_type": "code",
   "execution_count": 42,
   "metadata": {},
   "outputs": [
    {
     "name": "stdout",
     "output_type": "stream",
     "text": [
      "  Subject  ESEMarks  FinalMarks FinalGrade\n",
      "0      LA      53.0          60         BC\n",
      "1     DAA      70.0          75         AA\n",
      "2     CCN      51.5          66         AB\n",
      "3      OS      74.5          71         AB\n"
     ]
    }
   ],
   "source": [
    "data = [\n",
    "    [\"LA\", 53, 60, \"BC\"],\n",
    "    [\"DAA\", 70, 75, \"AA\"],\n",
    "    [\"CCN\", 51.5, 66, \"AB\"],\n",
    "    [\"OS\", 74.5, 71, \"AB\"]\n",
    "]\n",
    "\n",
    "df1 = pd.DataFrame(\n",
    "    data, columns=[\"Subject\", \"ESEMarks\", \"FinalMarks\", \"FinalGrade\"])\n",
    "print(df1)"
   ]
  },
  {
   "cell_type": "markdown",
   "metadata": {},
   "source": [
    "#### Creation of a DataFrame from CSV\n"
   ]
  },
  {
   "cell_type": "code",
   "execution_count": 43,
   "metadata": {},
   "outputs": [
    {
     "name": "stdout",
     "output_type": "stream",
     "text": [
      "    S. No.        Date  Score  Strike Rate Type of Match  Position  Innings  \\\n",
      "0        1  24-12-2009    107        93.85           ODI         4        2   \n",
      "1        2  11-01-2010    102       107.37           ODI         3        2   \n",
      "2        3  20-10-2010    118        97.52           ODI         3        2   \n",
      "3        4  28-11-2010    105       100.96           ODI         3        1   \n",
      "4        5  19-02-2011    100       120.48           ODI         4        1   \n",
      "..     ...         ...    ...          ...           ...       ...      ...   \n",
      "75      76  10-10-2019    254        75.59          Test         4        1   \n",
      "76      77  22-11-2019    136        70.10          Test         4        2   \n",
      "77      78  09-03-2023    186        51.09          Test         4        2   \n",
      "78      79  20-07-2023    121        58.73          Test         4        1   \n",
      "79      80  08-09-2022    122       200.00           T20         2        1   \n",
      "\n",
      "   Dismissed Man of the Match Captain       Against  \\\n",
      "0        Yes               No      No     Sri Lanka   \n",
      "1         No              Yes      No    Bangladesh   \n",
      "2        Yes              Yes      No     Australia   \n",
      "3        Yes              Yes      No   New Zealand   \n",
      "4         No               No      No    Bangladesh   \n",
      "..       ...              ...     ...           ...   \n",
      "75        No              Yes     Yes  South Africa   \n",
      "76       Yes               No     Yes    Bangladesh   \n",
      "77       Yes              Yes      No     Australia   \n",
      "78       Yes               No      No   West Indies   \n",
      "79        No              Yes      No   Afghanistan   \n",
      "\n",
      "                                            Venue    H/A/N Result  \n",
      "0                           Eden Gardens, Kolkata     Home    Won  \n",
      "1                    Sher-e-Bangla Stadium, Dhaka     Away    Won  \n",
      "2                APCA-VDCA Stadium, Visakhapatnam     Home    Won  \n",
      "3                         Nehru Stadium, Guwahati     Home    Won  \n",
      "4                    Sher-e-Bangla Stadium, Dhaka     Away    Won  \n",
      "..                                            ...      ...    ...  \n",
      "75  Maharashtra Cricket Association Stadium, Pune     Home    Won  \n",
      "76                          Eden Gardens, Kolkata     Home    Won  \n",
      "77               Narendra Modi Stadium, Ahmedabad     Home  Drawn  \n",
      "78               Queen's Park Oval, Port of Spain     Away  Drawn  \n",
      "79     Dubai International Cricket Stadium, Dubai  Neutral    Won  \n",
      "\n",
      "[80 rows x 14 columns]\n"
     ]
    }
   ],
   "source": [
    "df = pd.read_csv(\"Virat_Kohli_Centuries.csv\")\n",
    "print(df)"
   ]
  },
  {
   "cell_type": "markdown",
   "metadata": {},
   "source": [
    "### Data Retrieval\n"
   ]
  },
  {
   "cell_type": "markdown",
   "metadata": {},
   "source": [
    "#### Retrieve overall structure of the DataFrame\n"
   ]
  },
  {
   "cell_type": "code",
   "execution_count": 44,
   "metadata": {},
   "outputs": [
    {
     "name": "stdout",
     "output_type": "stream",
     "text": [
      "(4, 4)\n",
      "16\n",
      "Index(['Subject', 'ESEMarks', 'FinalMarks', 'FinalGrade'], dtype='object')\n",
      "Subject        object\n",
      "ESEMarks      float64\n",
      "FinalMarks      int64\n",
      "FinalGrade     object\n",
      "dtype: object\n"
     ]
    }
   ],
   "source": [
    "size = df1.shape\n",
    "print(size)\n",
    "\n",
    "count_rows_into_columns = df1.size\n",
    "print(count_rows_into_columns)\n",
    "\n",
    "cols = df1.columns\n",
    "print(cols)\n",
    "\n",
    "# Bonus: DataTypes\n",
    "datatypes = df1.dtypes\n",
    "print(datatypes)"
   ]
  },
  {
   "cell_type": "markdown",
   "metadata": {},
   "source": [
    "#### Retrieve initial n rows of the DataFrame\n"
   ]
  },
  {
   "cell_type": "code",
   "execution_count": 45,
   "metadata": {},
   "outputs": [
    {
     "name": "stdout",
     "output_type": "stream",
     "text": [
      "   S. No.        Date  Score  Strike Rate Type of Match  Position  Innings  \\\n",
      "0       1  24-12-2009    107        93.85           ODI         4        2   \n",
      "1       2  11-01-2010    102       107.37           ODI         3        2   \n",
      "2       3  20-10-2010    118        97.52           ODI         3        2   \n",
      "\n",
      "  Dismissed Man of the Match Captain     Against  \\\n",
      "0       Yes               No      No   Sri Lanka   \n",
      "1        No              Yes      No  Bangladesh   \n",
      "2       Yes              Yes      No   Australia   \n",
      "\n",
      "                              Venue H/A/N Result  \n",
      "0             Eden Gardens, Kolkata  Home    Won  \n",
      "1      Sher-e-Bangla Stadium, Dhaka  Away    Won  \n",
      "2  APCA-VDCA Stadium, Visakhapatnam  Home    Won  \n",
      "   S. No.        Date  Score  Strike Rate Type of Match  Position  Innings  \\\n",
      "0       1  24-12-2009    107        93.85           ODI         4        2   \n",
      "1       2  11-01-2010    102       107.37           ODI         3        2   \n",
      "2       3  20-10-2010    118        97.52           ODI         3        2   \n",
      "\n",
      "  Dismissed Man of the Match Captain     Against  \\\n",
      "0       Yes               No      No   Sri Lanka   \n",
      "1        No              Yes      No  Bangladesh   \n",
      "2       Yes              Yes      No   Australia   \n",
      "\n",
      "                              Venue H/A/N Result  \n",
      "0             Eden Gardens, Kolkata  Home    Won  \n",
      "1      Sher-e-Bangla Stadium, Dhaka  Away    Won  \n",
      "2  APCA-VDCA Stadium, Visakhapatnam  Home    Won  \n"
     ]
    }
   ],
   "source": [
    "print(df.head(3))\n",
    "print(df[:3])\n",
    "# Use tail for botton n rows of the DataFrame"
   ]
  },
  {
   "cell_type": "markdown",
   "metadata": {},
   "source": [
    "#### Summary Statistics\n"
   ]
  },
  {
   "cell_type": "code",
   "execution_count": 46,
   "metadata": {},
   "outputs": [
    {
     "name": "stdout",
     "output_type": "stream",
     "text": [
      "        S. No.       Score  Strike Rate   Position   Innings\n",
      "count  80.0000   80.000000    80.000000  80.000000  80.00000\n",
      "mean   40.5000  131.550000    99.270125   3.500000   1.67500\n",
      "std    23.2379   35.094772    32.741739   0.656033   0.67082\n",
      "min     1.0000  100.000000    34.910000   2.000000   1.00000\n",
      "25%    20.7500  107.000000    75.695000   3.000000   1.00000\n",
      "50%    40.5000  118.500000    97.160000   3.000000   2.00000\n",
      "75%    60.2500  139.250000   115.075000   4.000000   2.00000\n",
      "max    80.0000  254.000000   200.000000   6.000000   4.00000\n",
      "              Date Type of Match Dismissed Man of the Match Captain  \\\n",
      "count           80            80        80               80      80   \n",
      "unique          79             3         2                2       2   \n",
      "top     09-12-2014           ODI       Yes              Yes     Yes   \n",
      "freq             2            50        56               43      41   \n",
      "\n",
      "          Against                    Venue H/A/N Result  \n",
      "count          80                       80    80     80  \n",
      "unique         10                       49     3      4  \n",
      "top     Australia  Adelaide Oval, Adelaide  Home    Won  \n",
      "freq           16                        5    38     56  \n"
     ]
    }
   ],
   "source": [
    "print(df.describe())  # For all numeric values/datatypes\n",
    "print(df.describe(include=\"object\"))  # For Object values"
   ]
  },
  {
   "cell_type": "markdown",
   "metadata": {},
   "source": [
    "#### Retrieve a specific column\n"
   ]
  },
  {
   "cell_type": "code",
   "execution_count": 47,
   "metadata": {},
   "outputs": [
    {
     "name": "stdout",
     "output_type": "stream",
     "text": [
      "0     24-12-2009\n",
      "1     11-01-2010\n",
      "2     20-10-2010\n",
      "3     28-11-2010\n",
      "4     19-02-2011\n",
      "         ...    \n",
      "75    10-10-2019\n",
      "76    22-11-2019\n",
      "77    09-03-2023\n",
      "78    20-07-2023\n",
      "79    08-09-2022\n",
      "Name: Date, Length: 80, dtype: object\n",
      "0      93.85\n",
      "1     107.37\n",
      "2      97.52\n",
      "3     100.96\n",
      "4     120.48\n",
      "       ...  \n",
      "75     75.59\n",
      "76     70.10\n",
      "77     51.09\n",
      "78     58.73\n",
      "79    200.00\n",
      "Name: Strike Rate, Length: 80, dtype: float64\n",
      "          Date  Strike Rate\n",
      "0   24-12-2009        93.85\n",
      "1   11-01-2010       107.37\n",
      "2   20-10-2010        97.52\n",
      "3   28-11-2010       100.96\n",
      "4   19-02-2011       120.48\n",
      "..         ...          ...\n",
      "75  10-10-2019        75.59\n",
      "76  22-11-2019        70.10\n",
      "77  09-03-2023        51.09\n",
      "78  20-07-2023        58.73\n",
      "79  08-09-2022       200.00\n",
      "\n",
      "[80 rows x 2 columns]\n",
      "['No' 'Yes']\n"
     ]
    }
   ],
   "source": [
    "print(df.Date)  # 1 column, no space\n",
    "print(df[\"Strike Rate\"])  # 1 column, space in name\n",
    "print(df[[\"Date\", \"Strike Rate\"]])  # Multiple cols\n",
    "print(df[\"Man of the Match\"].unique())  # Get unique values in a column"
   ]
  },
  {
   "cell_type": "markdown",
   "metadata": {},
   "source": [
    "#### Retrieve specific rows\n"
   ]
  },
  {
   "cell_type": "code",
   "execution_count": 49,
   "metadata": {},
   "outputs": [
    {
     "name": "stdout",
     "output_type": "stream",
     "text": [
      "    S. No.        Date  Score  Strike Rate Type of Match  Position  Innings  \\\n",
      "1        2  11-01-2010    102       107.37           ODI         3        2   \n",
      "3        4  28-11-2010    105       100.96           ODI         3        1   \n",
      "4        5  19-02-2011    100       120.48           ODI         4        1   \n",
      "5        6  16-09-2011    107       115.05           ODI         4        1   \n",
      "6        7  17-10-2011    112       114.28           ODI         4        2   \n",
      "8        9  28-02-2012    133       154.65           ODI         4        2   \n",
      "10      11  18-03-2012    183       123.64           ODI         3        2   \n",
      "12      13  31-07-2012    128       107.56           ODI         3        2   \n",
      "13      14  05-07-2013    102       122.89           ODI         3        1   \n",
      "14      15  24-07-2013    115       106.48           ODI         3        2   \n",
      "15      16  16-10-2013    100       192.30           ODI         3        2   \n",
      "16      17  30-10-2013    115       174.24           ODI         3        2   \n",
      "17      18  19-01-2014    123       110.81           ODI         3        2   \n",
      "18      19  26-02-2014    136       111.47           ODI         3        2   \n",
      "19      20  17-10-2014    127       111.40           ODI         3        1   \n",
      "20      21  16-11-2014    139       110.31           ODI         4        2   \n",
      "24      25  20-01-2016    106       115.21           ODI         3        2   \n",
      "25      26  23-10-2016    154       114.92           ODI         3        2   \n",
      "26      27  15-01-2017    122       116.19           ODI         3        2   \n",
      "28      29  31-08-2017    131       136.45           ODI         3        1   \n",
      "31      32  29-10-2017    113       106.60           ODI         3        1   \n",
      "33      34  07-02-2018    160       100.62           ODI         3        1   \n",
      "34      35  16-02-2018    129       134.37           ODI         3        2   \n",
      "35      36  21-10-2018    140       130.84           ODI         3        2   \n",
      "36      37  24-10-2018    157       121.71           ODI         3        1   \n",
      "40      41  08-03-2019    123       129.47           ODI         3        2   \n",
      "42      43  14-08-2019    114       115.15           ODI         3        2   \n",
      "43      44  10-12-2022    113       124.17           ODI         3        1   \n",
      "44      45  10-01-2023    113       129.88           ODI         3        1   \n",
      "45      46  15-01-2023    166       150.90           ODI         3        1   \n",
      "46      47  10-09-2023    122       129.78           ODI         3        1   \n",
      "47      48  19-10-2023    103       106.18           ODI         3        2   \n",
      "49      50  15-11-2023    117       103.53           ODI         3        1   \n",
      "54      55  18-12-2013    119       192.13          Test         4        1   \n",
      "55      56  14-02-2014    105       100.19          Test         4        4   \n",
      "79      80  08-09-2022    122       200.00           T20         2        1   \n",
      "\n",
      "   Dismissed Man of the Match Captain       Against  \\\n",
      "1         No              Yes      No    Bangladesh   \n",
      "3        Yes              Yes      No   New Zealand   \n",
      "4         No               No      No    Bangladesh   \n",
      "5        Yes               No      No       England   \n",
      "6         No              Yes      No       England   \n",
      "8         No              Yes      No     Sri Lanka   \n",
      "10       Yes              Yes      No      Pakistan   \n",
      "12        No              Yes      No     Sri Lanka   \n",
      "13       Yes               No     Yes   West Indies   \n",
      "14       Yes               No     Yes      Zimbabwe   \n",
      "15        No               No      No     Australia   \n",
      "16        No              Yes      No     Australia   \n",
      "17       Yes               No      No   New Zealand   \n",
      "18       Yes              Yes     Yes    Bangladesh   \n",
      "19       Yes              Yes      No   West Indies   \n",
      "20        No               No     Yes     Sri Lanka   \n",
      "24       Yes               No      No     Australia   \n",
      "25        No              Yes      No   New Zealand   \n",
      "26       Yes               No     Yes       England   \n",
      "28       Yes              Yes     Yes     Sri Lanka   \n",
      "31       Yes               No     Yes   New Zealand   \n",
      "33        No              Yes     Yes  South Africa   \n",
      "34        No              Yes     Yes  South Africa   \n",
      "35       Yes              Yes     Yes   West Indies   \n",
      "36        No              Yes     Yes   West Indies   \n",
      "40       Yes               No     Yes     Australia   \n",
      "42        No              Yes     Yes   West Indies   \n",
      "43       Yes               No      No    Bangladesh   \n",
      "44       Yes              Yes      No     Sri Lanka   \n",
      "45        No              Yes      No     Sri Lanka   \n",
      "46        No              Yes      No      Pakistan   \n",
      "47        No              Yes      No    Bangladesh   \n",
      "49       Yes               No      No   New Zealand   \n",
      "54       Yes              Yes      No  South Africa   \n",
      "55        No               No      No   New Zealand   \n",
      "79        No              Yes      No   Afghanistan   \n",
      "\n",
      "                                                Venue    H/A/N Result  \n",
      "1                        Sher-e-Bangla Stadium, Dhaka     Away    Won  \n",
      "3                             Nehru Stadium, Guwahati     Home    Won  \n",
      "4                        Sher-e-Bangla Stadium, Dhaka     Away    Won  \n",
      "5                             Sophia Gardens, Cardiff     Away   Lost  \n",
      "6                      Feroz Shah Kotla Ground, Delhi     Home    Won  \n",
      "8                              Bellerive Oval, Hobart  Neutral    Won  \n",
      "10                       Sher-e-Bangla Stadium, Dhaka  Neutral    Won  \n",
      "12                      R. Premadasa Stadium, Colombo     Away    Won  \n",
      "13                   Queen's Park Oval, Port of Spain     Away    Won  \n",
      "14                         Harare Sports Club, Harare     Away    Won  \n",
      "15                     Sawai Mansingh Stadium, Jaipur     Home    Won  \n",
      "16                                VCA Stadium, Nagpur     Home    Won  \n",
      "17                                McLean Park, Napier     Away   Lost  \n",
      "18            Khan Shaheb Osman Ali Stadium, Fatullah     Away    Won  \n",
      "19                          HPCA Stadium, Dharamshala     Home    Won  \n",
      "20                               JSCA Stadium, Ranchi     Home    Won  \n",
      "24                              Manuka Oval, Canberra     Away   Lost  \n",
      "25                          IS Bindra Stadium, Mohali     Home    Won  \n",
      "26      Maharashtra Cricket Association Stadium, Pune     Home    Won  \n",
      "28                      R. Premadasa Stadium, Colombo     Away    Won  \n",
      "31                         Green Park Stadium, Kanpur     Home    Won  \n",
      "33                 Newlands Cricket Ground, Cape Town     Away    Won  \n",
      "34                         SuperSport Park, Centurion     Away    Won  \n",
      "35                              ACA Stadium, Guwahati     Home    Won  \n",
      "36                    ACA-VDCA Stadium, Visakhapatnam     Home   Tied  \n",
      "40                               JSCA Stadium, Ranchi     Home   Lost  \n",
      "42                   Queen's Park Oval, Port of Spain     Away    Won  \n",
      "43          Zohur Ahmed Chowdhury Stadium, Chittagong     Away    Won  \n",
      "44                              ACA Stadium, Guwahati     Home    Won  \n",
      "45  Greenfield International Stadium, Thiruvananth...     Home    Won  \n",
      "46                      R. Premadasa Stadium, Colombo  Neutral    Won  \n",
      "47      Maharashtra Cricket Association Stadium, Pune     Home    Won  \n",
      "49                           Wankhede Stadium, Mumbai     Home    Won  \n",
      "54                    Wanderers Stadium, Johannesburg     Away  Drawn  \n",
      "55                          Basin Reserve, Wellington     Away  Drawn  \n",
      "79         Dubai International Cricket Stadium, Dubai  Neutral    Won  \n",
      "    S. No.        Date  Score  Strike Rate Type of Match  Position  Innings  \\\n",
      "5        6  16-09-2011    107       115.05           ODI         4        1   \n",
      "17      18  19-01-2014    123       110.81           ODI         3        2   \n",
      "24      25  20-01-2016    106       115.21           ODI         3        2   \n",
      "40      41  08-03-2019    123       129.47           ODI         3        2   \n",
      "\n",
      "   Dismissed Man of the Match Captain      Against                    Venue  \\\n",
      "5        Yes               No      No      England  Sophia Gardens, Cardiff   \n",
      "17       Yes               No      No  New Zealand      McLean Park, Napier   \n",
      "24       Yes               No      No    Australia    Manuka Oval, Canberra   \n",
      "40       Yes               No     Yes    Australia     JSCA Stadium, Ranchi   \n",
      "\n",
      "   H/A/N Result  \n",
      "5   Away   Lost  \n",
      "17  Away   Lost  \n",
      "24  Away   Lost  \n",
      "40  Home   Lost  \n"
     ]
    }
   ],
   "source": [
    "# Say we want to matches where Kohli's strike rate was more than 100\n",
    "print(df[df[\"Strike Rate\"] > 100])\n",
    "# here we are basically taking the column that is needed and putting it back into df after querying\n",
    "\n",
    "# Complex Query: Matches with Strike Rate > 100 and India lost the game\n",
    "print(df[(df[\"Strike Rate\"] > 100) & (df.Result == \"Lost\")])"
   ]
  },
  {
   "cell_type": "markdown",
   "metadata": {},
   "source": [
    "### ILOC"
   ]
  },
  {
   "cell_type": "markdown",
   "metadata": {},
   "source": [
    "#### Working with ILOC"
   ]
  }
 ],
 "metadata": {
  "kernelspec": {
   "display_name": "Python 3",
   "language": "python",
   "name": "python3"
  },
  "language_info": {
   "codemirror_mode": {
    "name": "ipython",
    "version": 3
   },
   "file_extension": ".py",
   "mimetype": "text/x-python",
   "name": "python",
   "nbconvert_exporter": "python",
   "pygments_lexer": "ipython3",
   "version": "3.9.13"
  },
  "orig_nbformat": 4
 },
 "nbformat": 4,
 "nbformat_minor": 2
}
