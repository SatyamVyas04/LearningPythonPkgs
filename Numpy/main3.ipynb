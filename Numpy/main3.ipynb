{
 "cells": [
  {
   "cell_type": "code",
   "execution_count": null,
   "metadata": {},
   "outputs": [],
   "source": [
    "import numpy as np\n",
    "a = np.array([[1, 2, 3],[6, 5, 4]])\n",
    "b = np.array([[1, 2],[6, 5], [3, 4]])\n",
    "# print(a*b) not possible because of diff shape\n",
    "\n",
    "a = np.matrixlib.matrix(a)\n",
    "b = np.matrixlib.matrix(b)\n",
    "a*b # since these are matrices"
   ]
  },
  {
   "cell_type": "code",
   "execution_count": null,
   "metadata": {},
   "outputs": [],
   "source": [
    "np.linalg.det(np.array([[1, 2],[3, 4]]))\n",
    "# for linalg related stuff, do np.linalg"
   ]
  }
 ],
 "metadata": {
  "kernelspec": {
   "display_name": "Python 3",
   "language": "python",
   "name": "python3"
  },
  "language_info": {
   "codemirror_mode": {
    "name": "ipython",
    "version": 3
   },
   "file_extension": ".py",
   "mimetype": "text/x-python",
   "name": "python",
   "nbconvert_exporter": "python",
   "pygments_lexer": "ipython3",
   "version": "3.10.8"
  },
  "orig_nbformat": 4
 },
 "nbformat": 4,
 "nbformat_minor": 2
}
